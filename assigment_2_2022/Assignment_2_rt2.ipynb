{
 "cells": [
  {
   "cell_type": "code",
   "execution_count": 1,
   "id": "1c60f926",
   "metadata": {
    "ExecuteTime": {
     "end_time": "2023-05-18T09:41:17.126001Z",
     "start_time": "2023-05-18T09:41:16.561641Z"
    }
   },
   "outputs": [],
   "source": [
    "import rospy\n",
    "import time\n",
    "import math\n",
    "import jupyros as jr\n",
    "import numpy as np\n",
    "import following_goal.msg\n",
    "import actionlib\n",
    "import actionlib.msg\n",
    "import matplotlib.pyplot as plt\n",
    "import tf\n",
    "import ipywidgets as widgets\n",
    "\n",
    "from geometry_msgs.msg import Pose, Point\n",
    "from following_goal.srv import NumberGoals\n",
    "from following_goal.msg import PlanningAction\n",
    "from nav_msgs.msg import Odometry\n",
    "from IPython.display import display\n",
    "from sensor_msgs.msg import LaserScan\n",
    "from matplotlib.animation import FuncAnimation\n",
    "from nav_msgs.msg import Odometry\n",
    "from tf.transformations import quaternion_matrix\n",
    "from std_srvs.srv import *\n",
    "\n",
    "%matplotlib widget"
   ]
  },
  {
   "cell_type": "code",
   "execution_count": 2,
   "id": "058642ee",
   "metadata": {
    "ExecuteTime": {
     "end_time": "2023-05-18T09:41:18.791352Z",
     "start_time": "2023-05-18T09:41:18.586798Z"
    }
   },
   "outputs": [],
   "source": [
    "global user, status\n",
    "\n",
    "# start the node\n",
    "rospy.init_node('user_interface')\n",
    "\n",
    "# initialize the action client\n",
    "user=actionlib.SimpleActionClient('/reaching_goal', following_goal.msg.PlanningAction)\n",
    "\n",
    "# wait for the server\n",
    "user.wait_for_server()\n",
    "\n",
    "# get the actual state\n",
    "status=user.get_state()"
   ]
  },
  {
   "cell_type": "code",
   "execution_count": 3,
   "id": "8a145ca8",
   "metadata": {
    "ExecuteTime": {
     "end_time": "2023-05-18T09:41:20.783009Z",
     "start_time": "2023-05-18T09:41:20.773442Z"
    }
   },
   "outputs": [],
   "source": [
    "# Text box for insert the coordinates the goal\n",
    "goal_x_widget = widgets.FloatText( description='x-coordinate of the goal:', disabled=False)\n",
    "goal_y_widget = widgets.FloatText( description='y-coordinate of the goal:', disabled=False)\n",
    "\n",
    "# Confimation button for sending the coordinates of the goal\n",
    "confirm_goal = widgets.Button(description=\"Confirm goal\")\n",
    "output_confirm = widgets.Output()\n",
    "\n",
    "# Confimation button for deleting the goal set\n",
    "cancell_goal = widgets.Button(description=\"Cancel the goal\")\n",
    "output_cancell = widgets.Output()\n",
    "\n",
    "# Box for the menu to set or cancel the goal\n",
    "menu = widgets.VBox([goal_x_widget, goal_y_widget, confirm_goal, cancell_goal])\n"
   ]
  },
  {
   "cell_type": "code",
   "execution_count": 4,
   "id": "42c6068c",
   "metadata": {
    "ExecuteTime": {
     "end_time": "2023-05-18T09:41:23.196157Z",
     "start_time": "2023-05-18T09:41:23.188602Z"
    },
    "scrolled": true
   },
   "outputs": [
    {
     "name": "stdout",
     "output_type": "stream",
     "text": [
      "Click on one of the following options:\n"
     ]
    },
    {
     "data": {
      "application/vnd.jupyter.widget-view+json": {
       "model_id": "9e2b92a05b1846708d3d1c99af5c726e",
       "version_major": 2,
       "version_minor": 0
      },
      "text/plain": [
       "VBox(children=(FloatText(value=0.0, description='x-coordinate of the goal:'), FloatText(value=0.0, description…"
      ]
     },
     "metadata": {},
     "output_type": "display_data"
    },
    {
     "data": {
      "application/vnd.jupyter.widget-view+json": {
       "model_id": "5df3fbc74d334c9ba5df5a85463c0691",
       "version_major": 2,
       "version_minor": 0
      },
      "text/plain": [
       "Output()"
      ]
     },
     "metadata": {},
     "output_type": "display_data"
    },
    {
     "data": {
      "application/vnd.jupyter.widget-view+json": {
       "model_id": "f67d15b1adc745a9a86fe4794d86a2d2",
       "version_major": 2,
       "version_minor": 0
      },
      "text/plain": [
       "Output()"
      ]
     },
     "metadata": {},
     "output_type": "display_data"
    }
   ],
   "source": [
    "global user, status\n",
    "\n",
    "# Manage the click on the confimation button\n",
    "def on_confirm_clicked(confirm_goal):\n",
    "    global x_goal, y_goal\n",
    "    x_goal = float(goal_x_widget.value)\n",
    "    y_goal = float(goal_y_widget.value)\n",
    "    with output_confirm:\n",
    "        send_goal()\n",
    "confirm_goal.on_click(on_confirm_clicked)\n",
    "\n",
    "# Send the coordinated of the goal set\n",
    "def send_goal():\n",
    "    goal = following_goal.msg.PlanningGoal()\n",
    "    status=user.get_state()\n",
    "    if not (status==actionlib.GoalStatus.ACTIVE):\n",
    "        goal.target_pose.pose.position.x = x_goal\n",
    "        goal.target_pose.pose.position.y = y_goal\n",
    "        user.send_goal(goal)\n",
    "        print(\"Goal sent!\")\n",
    "    else:\n",
    "        print(\"Goal has been already set!\")\n",
    "        print(\"Cancel the goal and then set a new one\")\n",
    "\n",
    "# Manage the click on the cancel button\n",
    "def on_cancell_clicked(cancell_goal):\n",
    "    with output_cancell:\n",
    "        cancel_goal()\n",
    "cancell_goal.on_click(on_cancell_clicked)\n",
    "\n",
    "# Cancel the goal set\n",
    "def cancel_goal():\n",
    "    status = user.get_state()\n",
    "    if status == actionlib.GoalStatus.ACTIVE:\n",
    "        user.cancel_goal()\n",
    "        print(\"Goal deleted\")\n",
    "    else:\n",
    "        print(\"No goal has been set\")\n",
    "\n",
    "# Show the menu for sending or deleting the goal\n",
    "print(\"Click on one of the following options:\")\n",
    "display(menu, output_confirm, output_cancell)"
   ]
  },
  {
   "cell_type": "code",
   "execution_count": 5,
   "id": "3866b894",
   "metadata": {
    "ExecuteTime": {
     "end_time": "2023-05-18T09:41:32.945544Z",
     "start_time": "2023-05-18T09:41:32.932428Z"
    }
   },
   "outputs": [],
   "source": [
    "global x_goal, y_goal, user, status\n",
    "\n",
    "class Visualiser:\n",
    "    def __init__(self):\n",
    "        # create two subplot, one for tajector and one for reached/deleted goals\n",
    "        self.fig, (self.ax, self.ax2) = plt.subplots(1,2, figsize=(10,4))\n",
    "        \n",
    "        # plot for the tajectory\n",
    "        self.ln, = self.ax.plot([], [], 'mo', markersize='3', label='Trajectory')\n",
    "        # plonts for the reached, current and deleted goals\n",
    "        self.ax.plot(x_goal, y_goal, marker='*', color='green', markersize='8', label='Reached goals')\n",
    "        self.ax.plot(x_goal, y_goal, marker='*', color='orange', markersize='8', label='Current goal')\n",
    "        self.ax.plot(x_goal, y_goal, marker='*', color='blue', markersize='8', label='Deleted goals')\n",
    "        \n",
    "        #self.x_goal = x_goal\n",
    "        #self.y_goal = y_goal\n",
    "        self.x_data, self.y_data = [] , []\n",
    "        \n",
    "        # initialize counter for reached and deteleted goals\n",
    "        self.reached = 0\n",
    "        self.deleted = 0\n",
    "        \n",
    "        # initialize variable for checking the status\n",
    "        self.check_reached=False\n",
    "        self.check_deleted=False\n",
    "    \n",
    "    def plot_init(self):\n",
    "        # initialize the limits of the two plots\n",
    "        self.ax.set_xlim(-30, 30)\n",
    "        self.ax.set_ylim(-30, 30)\n",
    "        self.ax2.set_ylim(0, 10)\n",
    "        \n",
    "        return self.ln\n",
    "    \n",
    "    def odom_callback(self, msg):\n",
    "        # callback for the current position of the robot\n",
    "        self.y_data.append(msg.pose.pose.position.y)\n",
    "        self.x_data.append(msg.pose.pose.position.x)\n",
    "        current_px_widget.value=round(msg.pose.pose.position.x, 3)\n",
    "        current_py_widget.value=round(msg.pose.pose.position.y, 3)\n",
    "    \n",
    "    def update_plot(self, frame):\n",
    "        # updates the two plots\n",
    "        self.ln.set_data(self.x_data, self.y_data)\n",
    "        #self.posx=posx\n",
    "        #self.posy=posy\n",
    "        #get the status of the robot\n",
    "        status=user.get_state()\n",
    "        \n",
    "        # check if the goal is reached, show * in green\n",
    "        if status==3 and not(self.check_reached):\n",
    "            self.ax.plot(x_goal, y_goal, marker='*', color='green', markersize='8', label='Reached')\n",
    "            self.reached += 1\n",
    "            self.ax2.bar(['reached', 'deleted'], [self.reached, self.deleted], color = 'b')\n",
    "            self.check_reached=True\n",
    "            \n",
    "        # check if the goal has been deleted, show * in blue\n",
    "        elif status==2 and not(self.check_deleted):\n",
    "            self.ax.plot(x_goal, y_goal, marker='*', color='blue', markersize='8', label='Deleted')\n",
    "            self.deleted += 1\n",
    "            self.ax2.bar(['reached', 'deleted'], [self.reached, self.deleted], color = 'b')\n",
    "            self.check_deleted=True\n",
    "        \n",
    "        # change the check of reached goal to false\n",
    "        elif (not(status==3) and self.check_reached):\n",
    "            self.check_reached=False \n",
    "            \n",
    "        # change the check of deleted goal to false\n",
    "        elif (not(status==2) and self.check_deleted):\n",
    "            self.check_deleted=False\n",
    "            \n",
    "        # check if the robot is going to the current goal, show * in orange\n",
    "        elif (not(status==3) and not(status==2)):\n",
    "            self.ax.plot(x_goal, y_goal, marker='*', color='orange', markersize='8', label='Current')\n",
    "        \n",
    "        # show the bar graph to show the number of reached and deleted goals\n",
    "        self.ax2.bar(['reached', 'deleted'], [self.reached, self.deleted], color = 'm')\n",
    "        return self.ln"
   ]
  },
  {
   "cell_type": "code",
   "execution_count": 6,
   "id": "eab96bb5",
   "metadata": {
    "ExecuteTime": {
     "end_time": "2023-05-18T09:41:34.573834Z",
     "start_time": "2023-05-18T09:41:34.567551Z"
    }
   },
   "outputs": [],
   "source": [
    "# text box to show the distance from the closest obstacle\n",
    "min_dist_widget =widgets.FloatText( description='Distance from closest obstacle:', disabled=True)\n",
    "output_dist=widgets.Output()\n",
    "\n",
    "# text box to show the x-coordinate of the robot\n",
    "current_px_widget=widgets.FloatText(description='Robot x-pos:', disabled=True)\n",
    "\n",
    "# text box to show the y-coordinate of the robot\n",
    "current_py_widget=widgets.FloatText(description='Robot y-pos:', disabled=True)"
   ]
  },
  {
   "cell_type": "code",
   "execution_count": 7,
   "id": "68890456",
   "metadata": {
    "ExecuteTime": {
     "end_time": "2023-05-18T09:41:35.989898Z",
     "start_time": "2023-05-18T09:41:35.622709Z"
    },
    "scrolled": true
   },
   "outputs": [
    {
     "data": {
      "application/vnd.jupyter.widget-view+json": {
       "model_id": "9e66b960ddd344afad00244ce3e860ed",
       "version_major": 2,
       "version_minor": 0
      },
      "text/plain": [
       "Canvas(toolbar=Toolbar(toolitems=[('Home', 'Reset original view', 'home', 'home'), ('Back', 'Back to previous …"
      ]
     },
     "metadata": {},
     "output_type": "display_data"
    },
    {
     "data": {
      "application/vnd.jupyter.widget-view+json": {
       "model_id": "30ce5a07a529465a9f1cfd291460a19f",
       "version_major": 2,
       "version_minor": 0
      },
      "text/plain": [
       "FloatText(value=0.0, description='Distance from closest obstacle:', disabled=True)"
      ]
     },
     "metadata": {},
     "output_type": "display_data"
    },
    {
     "data": {
      "application/vnd.jupyter.widget-view+json": {
       "model_id": "b350b338a527444cb205564688ccf524",
       "version_major": 2,
       "version_minor": 0
      },
      "text/plain": [
       "Output()"
      ]
     },
     "metadata": {},
     "output_type": "display_data"
    },
    {
     "data": {
      "application/vnd.jupyter.widget-view+json": {
       "model_id": "9df3d42978fa4e818d18956d01bab06b",
       "version_major": 2,
       "version_minor": 0
      },
      "text/plain": [
       "FloatText(value=6.307, description='Robot x-pos:', disabled=True)"
      ]
     },
     "metadata": {},
     "output_type": "display_data"
    },
    {
     "data": {
      "application/vnd.jupyter.widget-view+json": {
       "model_id": "92918d63cc014a4895bd3df1120cb792",
       "version_major": 2,
       "version_minor": 0
      },
      "text/plain": [
       "FloatText(value=0.93, description='Robot y-pos:', disabled=True)"
      ]
     },
     "metadata": {},
     "output_type": "display_data"
    }
   ],
   "source": [
    "# graph for showing trajectory of the robots and goals coordinates\n",
    "vis = Visualiser()\n",
    "vis.ax.set_title('Plot of robot trajectory')\n",
    "vis.ax.set_xlabel('Position on x')\n",
    "vis.ax.set_ylabel('Position on y')\n",
    "vis.ax.legend(bbox_to_anchor=(1.05, 1.0), loc='upper left')\n",
    "plt.tight_layout()\n",
    "vis.ax.grid()\n",
    "\n",
    "# graph for showing the number of reached and deleted goals\n",
    "vis.ax2.set_title('Number of goals reached and deleted')\n",
    "vis.ax2.set_xlabel('Goals')\n",
    "vis.ax2.set_ylabel('Number of goal')\n",
    "\n",
    "# callback for updating the two graphs\n",
    "sub = rospy.Subscriber('/odom', Odometry, vis.odom_callback)\n",
    "time.sleep(0.2)\n",
    "ani = FuncAnimation(vis.fig, vis.update_plot, init_func=vis.plot_init)\n",
    "\n",
    "# show graphs\n",
    "plt.show(block=True)\n",
    "\n",
    "# show widgets for distance from the obstacle, and current position of the robot\n",
    "display(min_dist_widget, output_dist)\n",
    "display(current_px_widget)\n",
    "display(current_py_widget)\n"
   ]
  },
  {
   "cell_type": "code",
   "execution_count": null,
   "id": "fa32ba61",
   "metadata": {
    "ExecuteTime": {
     "end_time": "2023-05-18T09:41:52.800982Z",
     "start_time": "2023-05-18T09:41:52.788171Z"
    }
   },
   "outputs": [],
   "source": [
    "# get the distance from the closest obstacle detected by the laser scanner\n",
    "global min_range\n",
    "\n",
    "# find the minor value detected\n",
    "def scan_callback(scan):\n",
    "    min_range = scan.range_max\n",
    "    \n",
    "    for range_val in scan.ranges:\n",
    "        if range_val < min_range:\n",
    "            min_range = range_val\n",
    "            \n",
    "    min_dist_widget.value = round(min_range, 3)\n",
    "\n",
    "jr.subscribe('/scan', LaserScan, scan_callback)\n",
    "time.sleep(0.3)"
   ]
  },
  {
   "cell_type": "code",
   "execution_count": null,
   "id": "9db78e18",
   "metadata": {},
   "outputs": [],
   "source": []
  }
 ],
 "metadata": {
  "kernelspec": {
   "display_name": "Python 3 (ipykernel)",
   "language": "python",
   "name": "python3"
  },
  "language_info": {
   "codemirror_mode": {
    "name": "ipython",
    "version": 3
   },
   "file_extension": ".py",
   "mimetype": "text/x-python",
   "name": "python",
   "nbconvert_exporter": "python",
   "pygments_lexer": "ipython3",
   "version": "3.8.5"
  },
  "toc": {
   "base_numbering": 1,
   "nav_menu": {},
   "number_sections": true,
   "sideBar": true,
   "skip_h1_title": false,
   "title_cell": "Table of Contents",
   "title_sidebar": "Contents",
   "toc_cell": false,
   "toc_position": {},
   "toc_section_display": true,
   "toc_window_display": false
  },
  "varInspector": {
   "cols": {
    "lenName": 16,
    "lenType": 16,
    "lenVar": 40
   },
   "kernels_config": {
    "python": {
     "delete_cmd_postfix": "",
     "delete_cmd_prefix": "del ",
     "library": "var_list.py",
     "varRefreshCmd": "print(var_dic_list())"
    },
    "r": {
     "delete_cmd_postfix": ") ",
     "delete_cmd_prefix": "rm(",
     "library": "var_list.r",
     "varRefreshCmd": "cat(var_dic_list()) "
    }
   },
   "types_to_exclude": [
    "module",
    "function",
    "builtin_function_or_method",
    "instance",
    "_Feature"
   ],
   "window_display": false
  }
 },
 "nbformat": 4,
 "nbformat_minor": 5
}
